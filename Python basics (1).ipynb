{
 "cells": [
  {
   "cell_type": "markdown",
   "id": "f2e75dd2-6df9-410f-966c-abac3f83e200",
   "metadata": {},
   "source": [
    "1. Explain the key features of Python that make it a popular choice for programming.\n",
    "\n",
    "Python is popular because it’s simple to read and write like English. It has a huge number of libraries and frameworks, so we can use it for web development, data analysis, AI, or automation. It’s also open-source and works on all major platforms like Windows, macOS, and Linux. Plus, its community support is very strong, so help is always available online."
   ]
  },
  {
   "cell_type": "markdown",
   "id": "5e11e6cd-2e48-4d73-ad36-04a34d242134",
   "metadata": {},
   "source": [
    "2. Describe the role of predefined keywords in Python and provide examples of how they are used in a program.\n",
    "\n",
    "Predefined keywords in Python are special reserved words that have a specific meaning and can’t be used as variable names. They help Python understand what we want to do in our code."
   ]
  },
  {
   "cell_type": "code",
   "execution_count": 4,
   "id": "2f29ad51-1206-4538-9cf4-8b097e377fc3",
   "metadata": {},
   "outputs": [
    {
     "name": "stdout",
     "output_type": "stream",
     "text": [
      "1\n"
     ]
    }
   ],
   "source": [
    "# example\n",
    "x = 9\n",
    "if x > 0:\n",
    "    print(1)\n",
    "else:\n",
    "    print(2)\n",
    "# Here, if, else, and print are predefined keywords that perform specific tasks."
   ]
  },
  {
   "cell_type": "markdown",
   "id": "2a88186f-de6c-4123-a837-c90850bb9a3c",
   "metadata": {},
   "source": [
    "3. Compare and contrast mutable and immutable objects in Python with examples.\n",
    "\n",
    "Mutable objects can be changed after creation. Example: lists, dictionaries, sets.\n",
    "\n",
    "my_list = [1, 2, 3]\n",
    "my_list.append(4)  # List changes\n",
    "\n",
    "\n",
    "Immutable objects cannot be changed once created. Example: strings, tuples.\n",
    "\n",
    "my_str = \"hello\"\n",
    "my_str = my_str + \" world\"  # Creates a new string\n",
    "\n",
    "\n",
    "So, mutable objects can be updated in place, while immutable ones create a new copy."
   ]
  },
  {
   "cell_type": "markdown",
   "id": "ecb8cdc5-97e6-47b9-ad4b-480d8ad7cc85",
   "metadata": {},
   "source": [
    "4. Discuss the different types of operators in Python and provide examples of how they are used.\n",
    "\n",
    "Python has different types of operators:\n",
    "\n",
    "Arithmetic operators: +, -, *, /\n",
    "→ a + b adds two numbers.\n",
    "\n",
    "Comparison operators: ==, !=, >, <\n",
    "→ a > b checks if a is greater than b.\n",
    "\n",
    "Logical operators: and, or, not\n",
    "→ if a > 0 and b > 0: checks two conditions.\n",
    "\n",
    "Assignment operators: =, +=, -=\n",
    "→ a += 2 means a = a + 2.\n",
    "\n",
    "Membership operators: in, not in\n",
    "→ \"a\" in \"apple\" returns True"
   ]
  },
  {
   "cell_type": "markdown",
   "id": "46d635ce-d8d5-41f1-a8d7-3861218272f5",
   "metadata": {},
   "source": [
    "5. Explain the concept of type casting in Python with examples.\n",
    "\n",
    "Type casting means converting one data type into another. Python supports both implicit and explicit type casting."
   ]
  },
  {
   "cell_type": "code",
   "execution_count": 5,
   "id": "d502db11-b757-41cd-9ceb-97532fa40003",
   "metadata": {},
   "outputs": [
    {
     "name": "stdout",
     "output_type": "stream",
     "text": [
      "3\n"
     ]
    }
   ],
   "source": [
    "# example\n",
    "a = 10       # integer\n",
    "b = 3.5      # float\n",
    "c = int(b)   # explicit casting\n",
    "print(c)     # 3\n"
   ]
  },
  {
   "cell_type": "markdown",
   "id": "3c7fda2e-7b31-41f3-b864-82359505f3f6",
   "metadata": {},
   "source": [
    "6. How do conditional statements work in Python? Illustrate with examples.\n",
    "\n",
    "Conditional statements are used to make decisions in a program. They check if a condition is true or false and execute code accordingly."
   ]
  },
  {
   "cell_type": "code",
   "execution_count": 6,
   "id": "97440508-9979-443c-acec-64cd98a8bef6",
   "metadata": {},
   "outputs": [
    {
     "name": "stdout",
     "output_type": "stream",
     "text": [
      "You can vote\n"
     ]
    }
   ],
   "source": [
    "# example \n",
    "age = 18\n",
    "if age >= 18:\n",
    "    print(\"You can vote\")\n",
    "else:\n",
    "    print(\"You cannot vote\")\n"
   ]
  },
  {
   "cell_type": "markdown",
   "id": "fd648e78-c3e2-4827-b17a-c10326691e4f",
   "metadata": {},
   "source": [
    "7. Describe the different types of loops in Python and their use cases with examples.\n",
    "\n",
    "Python mainly has two types of loops:\n",
    "\n",
    "for loop: used when we know how many times to repeat."
   ]
  },
  {
   "cell_type": "code",
   "execution_count": 7,
   "id": "e17b2ca4-efad-4233-8c11-08202f4634d9",
   "metadata": {},
   "outputs": [
    {
     "name": "stdout",
     "output_type": "stream",
     "text": [
      "0\n",
      "1\n",
      "2\n",
      "3\n",
      "4\n"
     ]
    }
   ],
   "source": [
    "# example\n",
    "for i in range(5):\n",
    "    print(i)\n",
    "\n"
   ]
  },
  {
   "cell_type": "markdown",
   "id": "30b7a51d-d6a0-441e-9fcc-b7339e8ec30d",
   "metadata": {},
   "source": [
    "while loop: used when we don’t know the number of repetitions."
   ]
  },
  {
   "cell_type": "code",
   "execution_count": null,
   "id": "e04d87ff-c007-4c2d-a714-cfc165a86ba8",
   "metadata": {},
   "outputs": [],
   "source": [
    "count = 0\n",
    "while count < 5:\n",
    "    print(count)\n",
    "    count += 1\n"
   ]
  }
 ],
 "metadata": {
  "kernelspec": {
   "display_name": "Python [conda env:base] *",
   "language": "python",
   "name": "conda-base-py"
  },
  "language_info": {
   "codemirror_mode": {
    "name": "ipython",
    "version": 3
   },
   "file_extension": ".py",
   "mimetype": "text/x-python",
   "name": "python",
   "nbconvert_exporter": "python",
   "pygments_lexer": "ipython3",
   "version": "3.12.4"
  }
 },
 "nbformat": 4,
 "nbformat_minor": 5
}
